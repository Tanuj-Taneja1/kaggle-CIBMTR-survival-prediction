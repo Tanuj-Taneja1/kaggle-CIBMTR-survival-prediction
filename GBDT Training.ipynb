{
 "cells": [
  {
   "cell_type": "markdown",
   "id": "30d2c0a4",
   "metadata": {
    "papermill": {
     "duration": 0.004666,
     "end_time": "2025-02-23T17:59:03.347055",
     "exception": false,
     "start_time": "2025-02-23T17:59:03.342389",
     "status": "completed"
    },
    "tags": []
   },
   "source": [
    "# Pip Install Libraries for Metric\n",
    "Since internet must be turned off for submission, we pip install from my other notebook [here][1] where I downloaded the WHL files.\n",
    "\n",
    "[1]: https://www.kaggle.com/code/cdeotte/pip-install-lifelines"
   ]
  },
  {
   "cell_type": "code",
   "execution_count": 1,
   "id": "f0fdfe4b",
   "metadata": {
    "_kg_hide-output": true,
    "execution": {
     "iopub.execute_input": "2025-02-23T17:59:03.357240Z",
     "iopub.status.busy": "2025-02-23T17:59:03.356802Z",
     "iopub.status.idle": "2025-02-23T18:02:36.467202Z",
     "shell.execute_reply": "2025-02-23T18:02:36.465948Z"
    },
    "papermill": {
     "duration": 213.1188,
     "end_time": "2025-02-23T18:02:36.470139",
     "exception": false,
     "start_time": "2025-02-23T17:59:03.351339",
     "status": "completed"
    },
    "tags": []
   },
   "outputs": [
    {
     "name": "stdout",
     "output_type": "stream",
     "text": [
      "Processing /kaggle/input/pip-install-lifelines/autograd-1.7.0-py3-none-any.whl\r\n",
      "Requirement already satisfied: numpy in /opt/conda/lib/python3.10/site-packages (from autograd==1.7.0) (1.26.4)\r\n",
      "Installing collected packages: autograd\r\n",
      "Successfully installed autograd-1.7.0\r\n",
      "Processing /kaggle/input/pip-install-lifelines/autograd-gamma-0.5.0.tar.gz\r\n",
      "  Preparing metadata (setup.py) ... \u001b[?25l-\b \bdone\r\n",
      "\u001b[?25hRequirement already satisfied: autograd>=1.2.0 in /opt/conda/lib/python3.10/site-packages (from autograd-gamma==0.5.0) (1.7.0)\r\n",
      "Requirement already satisfied: scipy>=1.2.0 in /opt/conda/lib/python3.10/site-packages (from autograd-gamma==0.5.0) (1.14.1)\r\n",
      "Requirement already satisfied: numpy in /opt/conda/lib/python3.10/site-packages (from autograd>=1.2.0->autograd-gamma==0.5.0) (1.26.4)\r\n",
      "Building wheels for collected packages: autograd-gamma\r\n",
      "  Building wheel for autograd-gamma (setup.py) ... \u001b[?25l-\b \b\\\b \bdone\r\n",
      "\u001b[?25h  Created wheel for autograd-gamma: filename=autograd_gamma-0.5.0-py3-none-any.whl size=4030 sha256=d542dfe1e5c4109b08a65d6efb9e3216e3d5c1c77555b688bb37bcf377de71ec\r\n",
      "  Stored in directory: /root/.cache/pip/wheels/6b/b5/e0/4c79e15c0b5f2c15ecf613c720bb20daab20a666eb67135155\r\n",
      "Successfully built autograd-gamma\r\n",
      "Installing collected packages: autograd-gamma\r\n",
      "Successfully installed autograd-gamma-0.5.0\r\n",
      "Processing /kaggle/input/pip-install-lifelines/interface_meta-1.3.0-py3-none-any.whl\r\n",
      "Installing collected packages: interface-meta\r\n",
      "Successfully installed interface-meta-1.3.0\r\n",
      "Processing /kaggle/input/pip-install-lifelines/formulaic-1.0.2-py3-none-any.whl\r\n",
      "Requirement already satisfied: interface-meta>=1.2.0 in /opt/conda/lib/python3.10/site-packages (from formulaic==1.0.2) (1.3.0)\r\n",
      "Requirement already satisfied: numpy>=1.16.5 in /opt/conda/lib/python3.10/site-packages (from formulaic==1.0.2) (1.26.4)\r\n",
      "Requirement already satisfied: pandas>=1.0 in /opt/conda/lib/python3.10/site-packages (from formulaic==1.0.2) (2.2.3)\r\n",
      "Requirement already satisfied: scipy>=1.6 in /opt/conda/lib/python3.10/site-packages (from formulaic==1.0.2) (1.14.1)\r\n",
      "Requirement already satisfied: typing-extensions>=4.2.0 in /opt/conda/lib/python3.10/site-packages (from formulaic==1.0.2) (4.12.2)\r\n",
      "Requirement already satisfied: wrapt>=1.0 in /opt/conda/lib/python3.10/site-packages (from formulaic==1.0.2) (1.16.0)\r\n",
      "Requirement already satisfied: python-dateutil>=2.8.2 in /opt/conda/lib/python3.10/site-packages (from pandas>=1.0->formulaic==1.0.2) (2.9.0.post0)\r\n",
      "Requirement already satisfied: pytz>=2020.1 in /opt/conda/lib/python3.10/site-packages (from pandas>=1.0->formulaic==1.0.2) (2024.1)\r\n",
      "Requirement already satisfied: tzdata>=2022.7 in /opt/conda/lib/python3.10/site-packages (from pandas>=1.0->formulaic==1.0.2) (2024.1)\r\n",
      "Requirement already satisfied: six>=1.5 in /opt/conda/lib/python3.10/site-packages (from python-dateutil>=2.8.2->pandas>=1.0->formulaic==1.0.2) (1.16.0)\r\n",
      "Installing collected packages: formulaic\r\n",
      "Successfully installed formulaic-1.0.2\r\n",
      "Processing /kaggle/input/pip-install-lifelines/lifelines-0.30.0-py3-none-any.whl\r\n",
      "Requirement already satisfied: numpy>=1.14.0 in /opt/conda/lib/python3.10/site-packages (from lifelines==0.30.0) (1.26.4)\r\n",
      "Requirement already satisfied: scipy>=1.7.0 in /opt/conda/lib/python3.10/site-packages (from lifelines==0.30.0) (1.14.1)\r\n",
      "Requirement already satisfied: pandas>=2.1 in /opt/conda/lib/python3.10/site-packages (from lifelines==0.30.0) (2.2.3)\r\n",
      "Requirement already satisfied: matplotlib>=3.0 in /opt/conda/lib/python3.10/site-packages (from lifelines==0.30.0) (3.7.5)\r\n",
      "Requirement already satisfied: autograd>=1.5 in /opt/conda/lib/python3.10/site-packages (from lifelines==0.30.0) (1.7.0)\r\n",
      "Requirement already satisfied: autograd-gamma>=0.3 in /opt/conda/lib/python3.10/site-packages (from lifelines==0.30.0) (0.5.0)\r\n",
      "Requirement already satisfied: formulaic>=0.2.2 in /opt/conda/lib/python3.10/site-packages (from lifelines==0.30.0) (1.0.2)\r\n",
      "Requirement already satisfied: interface-meta>=1.2.0 in /opt/conda/lib/python3.10/site-packages (from formulaic>=0.2.2->lifelines==0.30.0) (1.3.0)\r\n",
      "Requirement already satisfied: typing-extensions>=4.2.0 in /opt/conda/lib/python3.10/site-packages (from formulaic>=0.2.2->lifelines==0.30.0) (4.12.2)\r\n",
      "Requirement already satisfied: wrapt>=1.0 in /opt/conda/lib/python3.10/site-packages (from formulaic>=0.2.2->lifelines==0.30.0) (1.16.0)\r\n",
      "Requirement already satisfied: contourpy>=1.0.1 in /opt/conda/lib/python3.10/site-packages (from matplotlib>=3.0->lifelines==0.30.0) (1.2.1)\r\n",
      "Requirement already satisfied: cycler>=0.10 in /opt/conda/lib/python3.10/site-packages (from matplotlib>=3.0->lifelines==0.30.0) (0.12.1)\r\n",
      "Requirement already satisfied: fonttools>=4.22.0 in /opt/conda/lib/python3.10/site-packages (from matplotlib>=3.0->lifelines==0.30.0) (4.53.0)\r\n",
      "Requirement already satisfied: kiwisolver>=1.0.1 in /opt/conda/lib/python3.10/site-packages (from matplotlib>=3.0->lifelines==0.30.0) (1.4.5)\r\n",
      "Requirement already satisfied: packaging>=20.0 in /opt/conda/lib/python3.10/site-packages (from matplotlib>=3.0->lifelines==0.30.0) (21.3)\r\n",
      "Requirement already satisfied: pillow>=6.2.0 in /opt/conda/lib/python3.10/site-packages (from matplotlib>=3.0->lifelines==0.30.0) (10.3.0)\r\n",
      "Requirement already satisfied: pyparsing>=2.3.1 in /opt/conda/lib/python3.10/site-packages (from matplotlib>=3.0->lifelines==0.30.0) (3.1.2)\r\n",
      "Requirement already satisfied: python-dateutil>=2.7 in /opt/conda/lib/python3.10/site-packages (from matplotlib>=3.0->lifelines==0.30.0) (2.9.0.post0)\r\n",
      "Requirement already satisfied: pytz>=2020.1 in /opt/conda/lib/python3.10/site-packages (from pandas>=2.1->lifelines==0.30.0) (2024.1)\r\n",
      "Requirement already satisfied: tzdata>=2022.7 in /opt/conda/lib/python3.10/site-packages (from pandas>=2.1->lifelines==0.30.0) (2024.1)\r\n",
      "Requirement already satisfied: six>=1.5 in /opt/conda/lib/python3.10/site-packages (from python-dateutil>=2.7->matplotlib>=3.0->lifelines==0.30.0) (1.16.0)\r\n",
      "Installing collected packages: lifelines\r\n",
      "Successfully installed lifelines-0.30.0\r\n"
     ]
    }
   ],
   "source": [
    "!pip install /kaggle/input/pip-install-lifelines/autograd-1.7.0-py3-none-any.whl\n",
    "!pip install /kaggle/input/pip-install-lifelines/autograd-gamma-0.5.0.tar.gz\n",
    "!pip install /kaggle/input/pip-install-lifelines/interface_meta-1.3.0-py3-none-any.whl\n",
    "!pip install /kaggle/input/pip-install-lifelines/formulaic-1.0.2-py3-none-any.whl\n",
    "!pip install /kaggle/input/pip-install-lifelines/lifelines-0.30.0-py3-none-any.whl"
   ]
  },
  {
   "cell_type": "markdown",
   "id": "b0695247",
   "metadata": {
    "papermill": {
     "duration": 0.00571,
     "end_time": "2025-02-23T18:02:36.481488",
     "exception": false,
     "start_time": "2025-02-23T18:02:36.475778",
     "status": "completed"
    },
    "tags": []
   },
   "source": [
    "# Load Train and Test"
   ]
  },
  {
   "cell_type": "code",
   "execution_count": 2,
   "id": "c3859cf5",
   "metadata": {
    "_cell_guid": "b1076dfc-b9ad-4769-8c92-a6c4dae69d19",
    "_uuid": "8f2839f25d086af736a60e9eeb907d3b93b6e0e5",
    "execution": {
     "iopub.execute_input": "2025-02-23T18:02:36.495421Z",
     "iopub.status.busy": "2025-02-23T18:02:36.495017Z",
     "iopub.status.idle": "2025-02-23T18:02:40.561210Z",
     "shell.execute_reply": "2025-02-23T18:02:40.559955Z"
    },
    "papermill": {
     "duration": 4.075217,
     "end_time": "2025-02-23T18:02:40.563341",
     "exception": false,
     "start_time": "2025-02-23T18:02:36.488124",
     "status": "completed"
    },
    "tags": []
   },
   "outputs": [
    {
     "name": "stdout",
     "output_type": "stream",
     "text": [
      "Test shape: (3, 58)\n",
      "Train shape: (28800, 60)\n"
     ]
    }
   ],
   "source": [
    "import numpy as np, pandas as pd\n",
    "import matplotlib.pyplot as plt\n",
    "from scipy.stats import rankdata \n",
    "from metric import score\n",
    "from lifelines import KaplanMeierFitter, NelsonAalenFitter\n",
    "from sklearn.metrics import mean_squared_error,mean_absolute_percentage_error  \n",
    "from sklearn.model_selection import KFold,StratifiedKFold\n",
    "from xgboost import XGBRegressor, XGBClassifier\n",
    "import xgboost as xgb\n",
    "from lightgbm import LGBMRegressor\n",
    "import lightgbm as lgb\n",
    "from catboost import CatBoostRegressor, CatBoostClassifier\n",
    "import catboost as cb\n",
    "import warnings\n",
    "warnings.simplefilter(action='ignore', category=FutureWarning)\n",
    "\n",
    "pd.set_option('display.max_columns', 500)\n",
    "pd.set_option('display.max_rows', 500)\n",
    "\n",
    "test = pd.read_csv(\"/kaggle/input/equity-post-HCT-survival-predictions/test.csv\")\n",
    "print(\"Test shape:\", test.shape )\n",
    "train = pd.read_csv(\"/kaggle/input/equity-post-HCT-survival-predictions/train.csv\")\n",
    "print(\"Train shape:\",train.shape)"
   ]
  },
  {
   "cell_type": "code",
   "execution_count": 3,
   "id": "fc222cd2",
   "metadata": {
    "execution": {
     "iopub.execute_input": "2025-02-23T18:02:40.576381Z",
     "iopub.status.busy": "2025-02-23T18:02:40.575561Z",
     "iopub.status.idle": "2025-02-23T18:02:40.581518Z",
     "shell.execute_reply": "2025-02-23T18:02:40.580589Z"
    },
    "papermill": {
     "duration": 0.014489,
     "end_time": "2025-02-23T18:02:40.583381",
     "exception": false,
     "start_time": "2025-02-23T18:02:40.568892",
     "status": "completed"
    },
    "tags": []
   },
   "outputs": [],
   "source": [
    "def transform_survival_probability(df, time_col='efs_time', event_col='efs'):\n",
    "    kmf = KaplanMeierFitter()\n",
    "    kmf.fit(df[time_col], df[event_col])\n",
    "    y = kmf.survival_function_at_times(df[time_col]).values\n",
    "    return y\n",
    "\n",
    "def create_nelson(data):\n",
    "    data=data.copy()\n",
    "    naf = NelsonAalenFitter(nelson_aalen_smoothing=0)\n",
    "    naf.fit(durations=data['efs_time'], event_observed=data['efs'])\n",
    "    return naf.cumulative_hazard_at_times(data['efs_time']).values*-1"
   ]
  },
  {
   "cell_type": "code",
   "execution_count": 4,
   "id": "463218f9",
   "metadata": {
    "execution": {
     "iopub.execute_input": "2025-02-23T18:02:40.596129Z",
     "iopub.status.busy": "2025-02-23T18:02:40.595300Z",
     "iopub.status.idle": "2025-02-23T18:02:40.600609Z",
     "shell.execute_reply": "2025-02-23T18:02:40.599691Z"
    },
    "papermill": {
     "duration": 0.01381,
     "end_time": "2025-02-23T18:02:40.602716",
     "exception": false,
     "start_time": "2025-02-23T18:02:40.588906",
     "status": "completed"
    },
    "tags": []
   },
   "outputs": [
    {
     "name": "stdout",
     "output_type": "stream",
     "text": [
      "There are 57 FEATURES: ['dri_score', 'psych_disturb', 'cyto_score', 'diabetes', 'hla_match_c_high', 'hla_high_res_8', 'tbi_status', 'arrhythmia', 'hla_low_res_6', 'graft_type', 'vent_hist', 'renal_issue', 'pulm_severe', 'prim_disease_hct', 'hla_high_res_6', 'cmv_status', 'hla_high_res_10', 'hla_match_dqb1_high', 'tce_imm_match', 'hla_nmdp_6', 'hla_match_c_low', 'rituximab', 'hla_match_drb1_low', 'hla_match_dqb1_low', 'prod_type', 'cyto_score_detail', 'conditioning_intensity', 'ethnicity', 'year_hct', 'obesity', 'mrd_hct', 'in_vivo_tcd', 'tce_match', 'hla_match_a_high', 'hepatic_severe', 'donor_age', 'prior_tumor', 'hla_match_b_low', 'peptic_ulcer', 'age_at_hct', 'hla_match_a_low', 'gvhd_proph', 'rheum_issue', 'sex_match', 'hla_match_b_high', 'race_group', 'comorbidity_score', 'karnofsky_score', 'hepatic_mild', 'tce_div_match', 'donor_related', 'melphalan_dose', 'hla_low_res_8', 'cardiac', 'hla_match_drb1_high', 'pulm_moderate', 'hla_low_res_10']\n"
     ]
    }
   ],
   "source": [
    "RMV = [\"ID\",\"efs\",\"efs_time\",\"y\",\"efs_time2\"]\n",
    "FEATURES = [c for c in train.columns if not c in RMV]\n",
    "print(f\"There are {len(FEATURES)} FEATURES: {FEATURES}\")"
   ]
  },
  {
   "cell_type": "code",
   "execution_count": 5,
   "id": "cff2ad93",
   "metadata": {
    "execution": {
     "iopub.execute_input": "2025-02-23T18:02:40.615034Z",
     "iopub.status.busy": "2025-02-23T18:02:40.614649Z",
     "iopub.status.idle": "2025-02-23T18:02:40.714379Z",
     "shell.execute_reply": "2025-02-23T18:02:40.713302Z"
    },
    "papermill": {
     "duration": 0.108308,
     "end_time": "2025-02-23T18:02:40.716609",
     "exception": false,
     "start_time": "2025-02-23T18:02:40.608301",
     "status": "completed"
    },
    "tags": []
   },
   "outputs": [
    {
     "name": "stdout",
     "output_type": "stream",
     "text": [
      "In these features, there are 35 CATEGORICAL FEATURES: ['dri_score', 'psych_disturb', 'cyto_score', 'diabetes', 'tbi_status', 'arrhythmia', 'graft_type', 'vent_hist', 'renal_issue', 'pulm_severe', 'prim_disease_hct', 'cmv_status', 'tce_imm_match', 'rituximab', 'prod_type', 'cyto_score_detail', 'conditioning_intensity', 'ethnicity', 'obesity', 'mrd_hct', 'in_vivo_tcd', 'tce_match', 'hepatic_severe', 'prior_tumor', 'peptic_ulcer', 'gvhd_proph', 'rheum_issue', 'sex_match', 'race_group', 'hepatic_mild', 'tce_div_match', 'donor_related', 'melphalan_dose', 'cardiac', 'pulm_moderate']\n"
     ]
    }
   ],
   "source": [
    "CATS = []\n",
    "for c in FEATURES:\n",
    "    if train[c].dtype==\"object\":\n",
    "        CATS.append(c)\n",
    "        train[c] = train[c].fillna(\"NAN\")\n",
    "        test[c] = test[c].fillna(\"NAN\")\n",
    "print(f\"In these features, there are {len(CATS)} CATEGORICAL FEATURES: {CATS}\")"
   ]
  },
  {
   "cell_type": "code",
   "execution_count": 6,
   "id": "8d5688d1",
   "metadata": {
    "execution": {
     "iopub.execute_input": "2025-02-23T18:02:40.729313Z",
     "iopub.status.busy": "2025-02-23T18:02:40.728964Z",
     "iopub.status.idle": "2025-02-23T18:02:40.873694Z",
     "shell.execute_reply": "2025-02-23T18:02:40.872701Z"
    },
    "papermill": {
     "duration": 0.153639,
     "end_time": "2025-02-23T18:02:40.875873",
     "exception": false,
     "start_time": "2025-02-23T18:02:40.722234",
     "status": "completed"
    },
    "tags": []
   },
   "outputs": [
    {
     "name": "stdout",
     "output_type": "stream",
     "text": [
      "We LABEL ENCODE the CATEGORICAL FEATURES: dri_score, psych_disturb, cyto_score, diabetes, tbi_status, arrhythmia, graft_type, vent_hist, renal_issue, pulm_severe, prim_disease_hct, cmv_status, tce_imm_match, rituximab, prod_type, cyto_score_detail, conditioning_intensity, ethnicity, obesity, mrd_hct, in_vivo_tcd, tce_match, hepatic_severe, prior_tumor, peptic_ulcer, gvhd_proph, rheum_issue, sex_match, race_group, hepatic_mild, tce_div_match, donor_related, melphalan_dose, cardiac, pulm_moderate, "
     ]
    }
   ],
   "source": [
    "combined = pd.concat([train,test],axis=0,ignore_index=True)\n",
    "print(\"We LABEL ENCODE the CATEGORICAL FEATURES: \",end=\"\")\n",
    "for c in FEATURES:\n",
    "\n",
    "    if c in CATS:\n",
    "        print(f\"{c}, \",end=\"\")\n",
    "        combined[c],_ = combined[c].factorize()\n",
    "        combined[c] -= combined[c].min()\n",
    "        combined[c] = combined[c].astype(\"int32\")\n",
    "        combined[c] = combined[c].astype(\"category\")\n",
    "        \n",
    "    else:\n",
    "        if combined[c].dtype==\"float64\":\n",
    "            combined[c] = combined[c].astype(\"float32\")\n",
    "        if combined[c].dtype==\"int64\":\n",
    "            combined[c] = combined[c].astype(\"int32\")\n",
    "    \n",
    "train = combined.iloc[:len(train)].copy()\n",
    "test = combined.iloc[len(train):].reset_index(drop=True).copy()"
   ]
  },
  {
   "cell_type": "code",
   "execution_count": 7,
   "id": "9e489bcd",
   "metadata": {
    "execution": {
     "iopub.execute_input": "2025-02-23T18:02:40.888810Z",
     "iopub.status.busy": "2025-02-23T18:02:40.888439Z",
     "iopub.status.idle": "2025-02-23T18:02:40.894773Z",
     "shell.execute_reply": "2025-02-23T18:02:40.893858Z"
    },
    "papermill": {
     "duration": 0.01507,
     "end_time": "2025-02-23T18:02:40.896692",
     "exception": false,
     "start_time": "2025-02-23T18:02:40.881622",
     "status": "completed"
    },
    "tags": []
   },
   "outputs": [],
   "source": [
    "FOLDS = 10\n",
    "def create_stratified_folds(data, target,n_splits=10,random_state=42):\n",
    "    data['fold'] = -1\n",
    "    if (target!=\"race_group\"):\n",
    "        data['bins'] = pd.qcut(data[target], q=50, duplicates='drop',labels=False)\n",
    "    else :\n",
    "        data[\"bins\"]=data[\"race_group\"]\n",
    "    skf = StratifiedKFold(n_splits=n_splits, shuffle=True, random_state=random_state)\n",
    "    for fold, (_, val_idx) in enumerate(skf.split(data, data['bins'])):\n",
    "        data.loc[val_idx, 'fold'] = fold\n",
    "    \n",
    "    data = data.drop(columns=['bins'])\n",
    "    return data"
   ]
  },
  {
   "cell_type": "code",
   "execution_count": 8,
   "id": "84938a64",
   "metadata": {
    "execution": {
     "iopub.execute_input": "2025-02-23T18:02:40.910074Z",
     "iopub.status.busy": "2025-02-23T18:02:40.909211Z",
     "iopub.status.idle": "2025-02-23T18:02:40.919875Z",
     "shell.execute_reply": "2025-02-23T18:02:40.918973Z"
    },
    "papermill": {
     "duration": 0.019351,
     "end_time": "2025-02-23T18:02:40.921825",
     "exception": false,
     "start_time": "2025-02-23T18:02:40.902474",
     "status": "completed"
    },
    "tags": []
   },
   "outputs": [],
   "source": [
    "import os\n",
    "import joblib\n",
    "def model_train(model,train,target,FEATURES,n_splits=10,random_state=42,strat_lab=\"race_group\"):\n",
    "    model_name = type(model).__name__.lower()\n",
    "    print(f\"Model : {model_name} Label : {target}\",end=\" \")\n",
    "    train=create_stratified_folds(train,strat_lab,n_splits,random_state)\n",
    "    oof = np.zeros(len(train))\n",
    "    pred = np.zeros(len(test))\n",
    "    for i in range(n_splits):\n",
    "        x_train = train.loc[train.fold!=i,FEATURES].copy()\n",
    "        y_train = train.loc[train.fold!=i,target]\n",
    "        x_valid = train.loc[train.fold==i,FEATURES].copy()\n",
    "        y_valid = train.loc[train.fold==i,target]\n",
    "        x_test = test[FEATURES].copy()\n",
    "\n",
    "        if (\"xgb\" in model_name):\n",
    "            model.fit(\n",
    "                x_train, y_train,\n",
    "                eval_set=[(x_valid, y_valid)],  \n",
    "                verbose=0 \n",
    "            )\n",
    "        elif (\"cat\" in model_name):\n",
    "            model.fit(x_train,y_train,\n",
    "                  eval_set=(x_valid, y_valid),\n",
    "                  cat_features=CATS,\n",
    "                  verbose=0)\n",
    "        elif (\"lgbm\" in model_name):\n",
    "            model.fit(\n",
    "                x_train, y_train,\n",
    "                eval_set=[(x_valid, y_valid)],  \n",
    "            )\n",
    "        os.makedirs(\"saved_models\", exist_ok=True)\n",
    "        model_path = f\"saved_models/{model_name}_{target}_rs{random_state}_fold{i}_strat{strat_lab}\"\n",
    "\n",
    "        if \"catboost\" in model_name:\n",
    "            model.save_model(f\"{model_path}.cbm\")\n",
    "        else:\n",
    "            joblib.dump(model, f\"{model_path}.pkl\")\n",
    "\n",
    "        # INFER OOF\n",
    "        oof[train.index[train.fold==i]] = (model.predict(x_valid))\n",
    "        # INFER TEST\n",
    "        pred+= (model.predict(x_test))\n",
    "    y_true = train[[\"ID\",\"efs\",\"efs_time\",\"race_group\"]].copy()\n",
    "    y_pred = train[[\"ID\"]].copy()\n",
    "    y_pred[\"prediction\"] = oof\n",
    "\n",
    "    m = score(y_true.copy(), y_pred.copy(), \"ID\")\n",
    "    mape = mean_absolute_percentage_error(train[target],oof)  \n",
    "    \n",
    "    print(f\"Overall CV = {m:.3f} and mape = {mape:.3f}\")\n",
    "    return oof,pred,m"
   ]
  },
  {
   "cell_type": "code",
   "execution_count": 9,
   "id": "7af4bb83",
   "metadata": {
    "execution": {
     "iopub.execute_input": "2025-02-23T18:02:40.934759Z",
     "iopub.status.busy": "2025-02-23T18:02:40.934180Z",
     "iopub.status.idle": "2025-02-23T18:02:40.944840Z",
     "shell.execute_reply": "2025-02-23T18:02:40.943892Z"
    },
    "papermill": {
     "duration": 0.019338,
     "end_time": "2025-02-23T18:02:40.946977",
     "exception": false,
     "start_time": "2025-02-23T18:02:40.927639",
     "status": "completed"
    },
    "tags": []
   },
   "outputs": [],
   "source": [
    "models = {\n",
    "    \"y_nel\": [\n",
    "        XGBRegressor(reg_lambda=2,max_depth=4,colsample_bytree=0.55,  subsample=0.8,  n_estimators=5000,  learning_rate=0.02,  \n",
    "                     enable_categorical=True,min_child_weight=80,early_stopping_rounds=200,n_jobs=4\n",
    "        ),\n",
    "        CatBoostRegressor(reg_lambda=2,learning_rate=0.09, subsample=0.95, grow_policy=\"Lossguide\", early_stopping_rounds=100),\n",
    "        LGBMRegressor(reg_lambda=2,max_depth=4, colsample_bytree=0.3, subsample=0.9, n_estimators=5000, learning_rate=0.02, \n",
    "                      objective=\"regression\", verbose=-1, early_stopping_rounds=300, enable_categorical=True, \n",
    "                      min_child_weight=80, n_jobs=4)\n",
    "        \n",
    "    ],\n",
    "    \"y\": [\n",
    "        XGBRegressor(reg_lambda=2,max_depth=4, colsample_bytree=0.55, subsample=0.8, n_estimators=5000, learning_rate=0.02, \n",
    "                     enable_categorical=True, min_child_weight=80, early_stopping_rounds=300, n_jobs=4),\n",
    "        CatBoostRegressor(reg_lambda=2,learning_rate=0.095, subsample=0.9, early_stopping_rounds=100),\n",
    "        LGBMRegressor(reg_lambda=2,max_depth=5, colsample_bytree=0.35, subsample=0.9, n_estimators=3000, learning_rate=0.02, \n",
    "                      objective=\"regression\", verbose=-1, early_stopping_rounds=100, n_jobs=4),\n",
    "    ],\n",
    "    \"efs_time2\": [\n",
    "        XGBRegressor(reg_lambda=2,colsample_bytree=0.5, subsample=0.9, n_estimators=3000, learning_rate=0.02, enable_categorical=True, \n",
    "                     min_child_weight=70, objective=\"survival:cox\", eval_metric=\"cox-nloglik\", n_jobs=4),\n",
    "        CatBoostRegressor(reg_lambda=2,loss_function=\"Cox\", iterations=500, learning_rate=0.15, subsample=0.9, use_best_model=False),\n",
    "    ],\n",
    "}\n"
   ]
  },
  {
   "cell_type": "code",
   "execution_count": 10,
   "id": "f9130086",
   "metadata": {
    "execution": {
     "iopub.execute_input": "2025-02-23T18:02:40.960166Z",
     "iopub.status.busy": "2025-02-23T18:02:40.959524Z",
     "iopub.status.idle": "2025-02-23T18:02:42.890933Z",
     "shell.execute_reply": "2025-02-23T18:02:42.889835Z"
    },
    "papermill": {
     "duration": 1.940376,
     "end_time": "2025-02-23T18:02:42.893090",
     "exception": false,
     "start_time": "2025-02-23T18:02:40.952714",
     "status": "completed"
    },
    "tags": []
   },
   "outputs": [
    {
     "data": {
      "image/png": "[encoded data removed]",
      "text/plain": [
       "<Figure size 640x480 with 1 Axes>"
      ]
     },
     "metadata": {},
     "output_type": "display_data"
    },
    {
     "data": {
      "image/png": "[encoded data removed]",
      "text/plain": [
       "<Figure size 640x480 with 1 Axes>"
      ]
     },
     "metadata": {},
     "output_type": "display_data"
    }
   ],
   "source": [
    "train[\"y_nel\"] = create_nelson(train)\n",
    "train.loc[train.efs == 0, \"y_nel\"] = (-(-train.loc[train.efs == 0, \"y_nel\"])**0.5)\n",
    "plt.hist(train.loc[train.efs==1,\"y_nel\"],bins=200,label=\"efs=1, Yes Event\")\n",
    "plt.hist(train.loc[train.efs==0,\"y_nel\"],bins=200,label=\"efs=0, Maybe Event\")\n",
    "plt.xlabel(\"Transformed Target y_nelspn\")\n",
    "plt.ylabel(\"Density\")\n",
    "plt.title(\"KaplanMeier Transformed Target y_nelson using both efs and efs_time.\")\n",
    "plt.legend()\n",
    "plt.show()\n",
    "\n",
    "train[\"y\"] = transform_survival_probability(train, time_col='efs_time', event_col='efs')\n",
    "train.loc[train.efs == 0, \"y\"] = ((train.loc[train.efs == 0, \"y\"])**1.1)\n",
    "plt.hist(train.loc[train.efs==1,\"y_nel\"],bins=200,label=\"efs=1, Yes Event\")\n",
    "plt.hist(train.loc[train.efs==0,\"y_nel\"],bins=200,label=\"efs=0, Maybe Event\")\n",
    "# plt.xlabel(\"Transformed Target kaplan\")\n",
    "plt.ylabel(\"Density\")\n",
    "plt.title(\"KaplanMeier Transformed Target.\")\n",
    "plt.legend()\n",
    "plt.show()\n",
    "\n",
    "train[\"efs_time2\"] = train.efs_time.copy()\n",
    "train.loc[:,\"efs_time2\"] **= 2\n",
    "train.loc[train.efs==0,\"efs_time2\"] *= -1"
   ]
  },
  {
   "cell_type": "code",
   "execution_count": 11,
   "id": "1114984e",
   "metadata": {
    "execution": {
     "iopub.execute_input": "2025-02-23T18:02:42.908695Z",
     "iopub.status.busy": "2025-02-23T18:02:42.908320Z",
     "iopub.status.idle": "2025-02-24T03:45:39.989383Z",
     "shell.execute_reply": "2025-02-24T03:45:39.986162Z"
    },
    "papermill": {
     "duration": 34977.10805,
     "end_time": "2025-02-24T03:45:40.008004",
     "exception": false,
     "start_time": "2025-02-23T18:02:42.899954",
     "status": "completed"
    },
    "tags": []
   },
   "outputs": [
    {
     "name": "stdout",
     "output_type": "stream",
     "text": [
      "RS: 0\n",
      "Model : xgbregressor Label : y_nel Overall CV = 0.679 and mape = 4.611\n",
      "Model : xgbregressor Label : y_nel Overall CV = 0.680 and mape = 4.416\n",
      "Model : catboostregressor Label : y_nel Overall CV = 0.676 and mape = 4.629\n",
      "Model : catboostregressor Label : y_nel Overall CV = 0.678 and mape = 4.606\n",
      "Model : lgbmregressor Label : y_nel Overall CV = 0.678 and mape = 4.619\n",
      "Model : lgbmregressor Label : y_nel Overall CV = 0.678 and mape = 4.490\n",
      "RS: 1\n",
      "Model : xgbregressor Label : y_nel Overall CV = 0.680 and mape = 4.457\n",
      "Model : xgbregressor Label : y_nel Overall CV = 0.680 and mape = 4.520\n",
      "Model : catboostregressor Label : y_nel Overall CV = 0.676 and mape = 4.525\n",
      "Model : catboostregressor Label : y_nel Overall CV = 0.678 and mape = 4.662\n",
      "Model : lgbmregressor Label : y_nel Overall CV = 0.678 and mape = 4.506\n",
      "Model : lgbmregressor Label : y_nel Overall CV = 0.680 and mape = 4.587\n",
      "RS: 2\n",
      "Model : xgbregressor Label : y_nel Overall CV = 0.680 and mape = 4.522\n",
      "Model : xgbregressor Label : y_nel Overall CV = 0.680 and mape = 4.532\n",
      "Model : catboostregressor Label : y_nel Overall CV = 0.677 and mape = 4.461\n",
      "Model : catboostregressor Label : y_nel Overall CV = 0.677 and mape = 4.449\n",
      "Model : lgbmregressor Label : y_nel Overall CV = 0.678 and mape = 4.500\n",
      "Model : lgbmregressor Label : y_nel Overall CV = 0.680 and mape = 4.564\n",
      "RS: 3\n",
      "Model : xgbregressor Label : y_nel Overall CV = 0.680 and mape = 4.522\n",
      "Model : xgbregressor Label : y_nel Overall CV = 0.679 and mape = 4.536\n",
      "Model : catboostregressor Label : y_nel Overall CV = 0.676 and mape = 4.508\n",
      "Model : catboostregressor Label : y_nel Overall CV = 0.676 and mape = 4.579\n",
      "Model : lgbmregressor Label : y_nel Overall CV = 0.679 and mape = 4.565\n",
      "Model : lgbmregressor Label : y_nel Overall CV = 0.678 and mape = 4.559\n",
      "RS: 41\n",
      "Model : xgbregressor Label : y_nel Overall CV = 0.680 and mape = 4.470\n",
      "Model : xgbregressor Label : y_nel Overall CV = 0.680 and mape = 4.521\n",
      "Model : catboostregressor Label : y_nel Overall CV = 0.676 and mape = 4.530\n",
      "Model : catboostregressor Label : y_nel Overall CV = 0.676 and mape = 4.526\n",
      "Model : lgbmregressor Label : y_nel Overall CV = 0.679 and mape = 4.498\n",
      "Model : lgbmregressor Label : y_nel Overall CV = 0.678 and mape = 4.572\n",
      "RS: 42\n",
      "Model : xgbregressor Label : y_nel Overall CV = 0.681 and mape = 4.495\n",
      "Model : xgbregressor Label : y_nel Overall CV = 0.680 and mape = 4.502\n",
      "Model : catboostregressor Label : y_nel Overall CV = 0.678 and mape = 4.520\n",
      "Model : catboostregressor Label : y_nel Overall CV = 0.677 and mape = 4.633\n",
      "Model : lgbmregressor Label : y_nel Overall CV = 0.679 and mape = 4.576\n",
      "Model : lgbmregressor Label : y_nel Overall CV = 0.679 and mape = 4.512\n",
      "RS: 2025\n",
      "Model : xgbregressor Label : y_nel Overall CV = 0.680 and mape = 4.517\n",
      "Model : xgbregressor Label : y_nel Overall CV = 0.681 and mape = 4.509\n",
      "Model : catboostregressor Label : y_nel Overall CV = 0.676 and mape = 4.611\n",
      "Model : catboostregressor Label : y_nel Overall CV = 0.677 and mape = 4.666\n",
      "Model : lgbmregressor Label : y_nel Overall CV = 0.679 and mape = 4.533\n",
      "Model : lgbmregressor Label : y_nel Overall CV = 0.679 and mape = 4.594\n",
      "[-34.22086065 -22.26661514 -38.40681803 ... -18.40570296 -30.99075884\n",
      " -34.72825942]\n",
      "[-341.93922397 -206.97958615 -383.69976532]\n",
      "RS: 0\n",
      "Model : xgbregressor Label : y Overall CV = 0.677 and mape = 0.241\n",
      "Model : xgbregressor Label : y Overall CV = 0.677 and mape = 0.241\n",
      "Model : catboostregressor Label : y Overall CV = 0.675 and mape = 0.242\n",
      "Model : catboostregressor Label : y Overall CV = 0.676 and mape = 0.242\n",
      "Model : lgbmregressor Label : y Overall CV = 0.676 and mape = 0.241\n",
      "Model : lgbmregressor Label : y Overall CV = 0.676 and mape = 0.241\n",
      "RS: 1\n",
      "Model : xgbregressor Label : y Overall CV = 0.677 and mape = 0.241\n",
      "Model : xgbregressor Label : y Overall CV = 0.679 and mape = 0.240\n",
      "Model : catboostregressor Label : y Overall CV = 0.674 and mape = 0.242\n",
      "Model : catboostregressor Label : y Overall CV = 0.676 and mape = 0.242\n",
      "Model : lgbmregressor Label : y Overall CV = 0.675 and mape = 0.241\n",
      "Model : lgbmregressor Label : y Overall CV = 0.677 and mape = 0.241\n",
      "RS: 2\n",
      "Model : xgbregressor Label : y Overall CV = 0.677 and mape = 0.240\n",
      "Model : xgbregressor Label : y Overall CV = 0.678 and mape = 0.240\n",
      "Model : catboostregressor Label : y Overall CV = 0.676 and mape = 0.242\n",
      "Model : catboostregressor Label : y Overall CV = 0.677 and mape = 0.242\n",
      "Model : lgbmregressor Label : y Overall CV = 0.676 and mape = 0.241\n",
      "Model : lgbmregressor Label : y Overall CV = 0.678 and mape = 0.241\n",
      "RS: 3\n",
      "Model : xgbregressor Label : y Overall CV = 0.678 and mape = 0.240\n",
      "Model : xgbregressor Label : y Overall CV = 0.677 and mape = 0.241\n",
      "Model : catboostregressor Label : y Overall CV = 0.675 and mape = 0.242\n",
      "Model : catboostregressor Label : y Overall CV = 0.675 and mape = 0.242\n",
      "Model : lgbmregressor Label : y Overall CV = 0.677 and mape = 0.241\n",
      "Model : lgbmregressor Label : y Overall CV = 0.676 and mape = 0.241\n",
      "RS: 41\n",
      "Model : xgbregressor Label : y Overall CV = 0.678 and mape = 0.240\n",
      "Model : xgbregressor Label : y Overall CV = 0.677 and mape = 0.240\n",
      "Model : catboostregressor Label : y Overall CV = 0.676 and mape = 0.241\n",
      "Model : catboostregressor Label : y Overall CV = 0.676 and mape = 0.242\n",
      "Model : lgbmregressor Label : y Overall CV = 0.676 and mape = 0.241\n",
      "Model : lgbmregressor Label : y Overall CV = 0.676 and mape = 0.241\n",
      "RS: 42\n",
      "Model : xgbregressor Label : y Overall CV = 0.678 and mape = 0.240\n",
      "Model : xgbregressor Label : y Overall CV = 0.677 and mape = 0.240\n",
      "Model : catboostregressor Label : y Overall CV = 0.676 and mape = 0.242\n",
      "Model : catboostregressor Label : y Overall CV = 0.676 and mape = 0.242\n",
      "Model : lgbmregressor Label : y Overall CV = 0.677 and mape = 0.241\n",
      "Model : lgbmregressor Label : y Overall CV = 0.676 and mape = 0.241\n",
      "RS: 2025\n",
      "Model : xgbregressor Label : y Overall CV = 0.678 and mape = 0.240\n",
      "Model : xgbregressor Label : y Overall CV = 0.678 and mape = 0.240\n",
      "Model : catboostregressor Label : y Overall CV = 0.676 and mape = 0.242\n",
      "Model : catboostregressor Label : y Overall CV = 0.676 and mape = 0.242\n",
      "Model : lgbmregressor Label : y Overall CV = 0.676 and mape = 0.241\n",
      "Model : lgbmregressor Label : y Overall CV = 0.676 and mape = 0.241\n",
      "[19.21529154 26.42167377 17.04370187 ... 28.61131395 21.84142294\n",
      " 19.08397349]\n",
      "[191.98753126 275.10116487 170.31039182]\n",
      "RS: 0\n",
      "Model : xgbregressor Label : efs_time2 Overall CV = 0.674 and mape = 0.966\n",
      "Model : xgbregressor Label : efs_time2 Overall CV = 0.674 and mape = 0.969\n",
      "Model : catboostregressor Label : efs_time2 Overall CV = 0.670 and mape = 0.990\n",
      "Model : catboostregressor Label : efs_time2 Overall CV = 0.673 and mape = 0.990\n",
      "RS: 1\n",
      "Model : xgbregressor Label : efs_time2 Overall CV = 0.674 and mape = 0.968\n",
      "Model : xgbregressor Label : efs_time2 Overall CV = 0.674 and mape = 0.967\n",
      "Model : catboostregressor Label : efs_time2 Overall CV = 0.671 and mape = 0.990\n",
      "Model : catboostregressor Label : efs_time2 Overall CV = 0.672 and mape = 0.990\n",
      "RS: 2\n",
      "Model : xgbregressor Label : efs_time2 Overall CV = 0.674 and mape = 0.968\n",
      "Model : xgbregressor Label : efs_time2 Overall CV = 0.675 and mape = 0.967\n",
      "Model : catboostregressor Label : efs_time2 Overall CV = 0.671 and mape = 0.991\n",
      "Model : catboostregressor Label : efs_time2 Overall CV = 0.670 and mape = 0.990\n",
      "RS: 3\n",
      "Model : xgbregressor Label : efs_time2 Overall CV = 0.674 and mape = 0.969\n",
      "Model : xgbregressor Label : efs_time2 Overall CV = 0.673 and mape = 0.967\n",
      "Model : catboostregressor Label : efs_time2 Overall CV = 0.670 and mape = 0.991\n",
      "Model : catboostregressor Label : efs_time2 Overall CV = 0.671 and mape = 0.990\n",
      "RS: 41\n",
      "Model : xgbregressor Label : efs_time2 Overall CV = 0.674 and mape = 0.968\n",
      "Model : xgbregressor Label : efs_time2 Overall CV = 0.674 and mape = 0.968\n",
      "Model : catboostregressor Label : efs_time2 Overall CV = 0.671 and mape = 0.991\n",
      "Model : catboostregressor Label : efs_time2 Overall CV = 0.670 and mape = 0.990\n",
      "RS: 42\n",
      "Model : xgbregressor Label : efs_time2 Overall CV = 0.675 and mape = 0.967\n",
      "Model : xgbregressor Label : efs_time2 Overall CV = 0.673 and mape = 0.969\n",
      "Model : catboostregressor Label : efs_time2 Overall CV = 0.671 and mape = 0.990\n",
      "Model : catboostregressor Label : efs_time2 Overall CV = 0.670 and mape = 0.991\n",
      "RS: 2025\n",
      "Model : xgbregressor Label : efs_time2 Overall CV = 0.674 and mape = 0.968\n",
      "Model : xgbregressor Label : efs_time2 Overall CV = 0.674 and mape = 0.967\n",
      "Model : catboostregressor Label : efs_time2 Overall CV = 0.672 and mape = 0.990\n",
      "Model : catboostregressor Label : efs_time2 Overall CV = 0.670 and mape = 0.990\n",
      "[-18.80257677  37.50709714 -31.67475444 ...  35.5040509  -10.10367128\n",
      " -24.45664165]\n",
      "[-187.35254064  492.43071839 -323.03681977]\n"
     ]
    }
   ],
   "source": [
    "train[\"y_nel\"] = create_nelson(train)\n",
    "train.loc[train.efs == 0, \"y_nel\"] = (-(-train.loc[train.efs == 0, \"y_nel\"])**0.5)\n",
    "\n",
    "train[\"y\"] = transform_survival_probability(train, time_col='efs_time', event_col='efs')\n",
    "train.loc[train.efs == 0, \"y\"] = ((train.loc[train.efs == 0, \"y\"])**1.1)\n",
    "all_oofs=[]\n",
    "all_preds=[]\n",
    "all_scores=[]\n",
    "for label in [\"y_nel\",\"y\",\"efs_time2\"]:\n",
    "    oof = np.zeros(len(train))\n",
    "    pred = np.zeros(len(test))\n",
    "    model_score=0\n",
    "    for rs in [0,1,2,3,41,42,2025]:\n",
    "        print(\"RS:\" ,rs)\n",
    "        for model in models[label]:   \n",
    "            oof1,pred1,x=model_train(model,train,label,FEATURES,n_splits=10,random_state=rs,strat_lab=\"race_group\")\n",
    "            oof+=oof1\n",
    "            pred+=pred1\n",
    "            model_score+=x\n",
    "            oof1,pred1,x=model_train(model,train,label,FEATURES,n_splits=10,random_state=20+rs,strat_lab=\"efs_time\")\n",
    "            oof+=oof1\n",
    "            pred+=pred1\n",
    "            model_score+=x\n",
    "\n",
    "    print(oof)\n",
    "    print(pred)\n",
    "    all_oofs.append(oof)\n",
    "    all_preds.append(pred)\n",
    "    all_scores.append(model_score)\n"
   ]
  },
  {
   "cell_type": "code",
   "execution_count": 12,
   "id": "a14ebd5b",
   "metadata": {
    "execution": {
     "iopub.execute_input": "2025-02-24T03:45:40.042114Z",
     "iopub.status.busy": "2025-02-24T03:45:40.041565Z",
     "iopub.status.idle": "2025-02-24T03:45:41.583062Z",
     "shell.execute_reply": "2025-02-24T03:45:41.581593Z"
    },
    "papermill": {
     "duration": 1.563127,
     "end_time": "2025-02-24T03:45:41.585644",
     "exception": false,
     "start_time": "2025-02-24T03:45:40.022517",
     "status": "completed"
    },
    "tags": []
   },
   "outputs": [
    {
     "name": "stdout",
     "output_type": "stream",
     "text": [
      "\n",
      "Overall CV for Ensemble = 0.6829799365047259\n",
      "\n",
      "Overall CV for Ensemble = 0.6827241676258264\n"
     ]
    }
   ],
   "source": [
    "y_true = train[[\"ID\",\"efs\",\"efs_time\",\"race_group\"]].copy()\n",
    "y_pred = train[[\"ID\"]].copy()\n",
    "y_pred[\"prediction\"] =sum(np.log1p(rankdata(all_oofs[i])*all_scores[i]) for i in range(len(all_oofs)))\n",
    "\n",
    "m = score(y_true.copy(), y_pred.copy(), \"ID\")\n",
    "print(f\"\\nOverall CV for Ensemble =\",m)\n",
    "\n",
    "y_pred[\"prediction\"] =sum((rankdata(all_oofs[i])*all_scores[i]) for i in range(len(all_oofs)))\n",
    "m = score(y_true.copy(), y_pred.copy(), \"ID\")\n",
    "print(f\"\\nOverall CV for Ensemble =\",m)"
   ]
  },
  {
   "cell_type": "markdown",
   "id": "b804ac93",
   "metadata": {
    "papermill": {
     "duration": 0.013262,
     "end_time": "2025-02-24T03:45:41.613437",
     "exception": false,
     "start_time": "2025-02-24T03:45:41.600175",
     "status": "completed"
    },
    "tags": []
   },
   "source": [
    "# Create Submission CSV"
   ]
  },
  {
   "cell_type": "code",
   "execution_count": 13,
   "id": "678827fd",
   "metadata": {
    "execution": {
     "iopub.execute_input": "2025-02-24T03:45:41.643998Z",
     "iopub.status.busy": "2025-02-24T03:45:41.643453Z",
     "iopub.status.idle": "2025-02-24T03:45:41.706364Z",
     "shell.execute_reply": "2025-02-24T03:45:41.705266Z"
    },
    "papermill": {
     "duration": 0.0831,
     "end_time": "2025-02-24T03:45:41.710346",
     "exception": false,
     "start_time": "2025-02-24T03:45:41.627246",
     "status": "completed"
    },
    "tags": []
   },
   "outputs": [
    {
     "name": "stdout",
     "output_type": "stream",
     "text": [
      "Sub shape: (3, 2)\n",
      "Sub shape: (3, 2)\n"
     ]
    },
    {
     "data": {
      "text/html": [
       "<div>\n",
       "<style scoped>\n",
       "    .dataframe tbody tr th:only-of-type {\n",
       "        vertical-align: middle;\n",
       "    }\n",
       "\n",
       "    .dataframe tbody tr th {\n",
       "        vertical-align: top;\n",
       "    }\n",
       "\n",
       "    .dataframe thead th {\n",
       "        text-align: right;\n",
       "    }\n",
       "</style>\n",
       "<table border=\"1\" class=\"dataframe\">\n",
       "  <thead>\n",
       "    <tr style=\"text-align: right;\">\n",
       "      <th></th>\n",
       "      <th>ID</th>\n",
       "      <th>prediction</th>\n",
       "    </tr>\n",
       "  </thead>\n",
       "  <tbody>\n",
       "    <tr>\n",
       "      <th>0</th>\n",
       "      <td>28800</td>\n",
       "      <td>151.472441</td>\n",
       "    </tr>\n",
       "    <tr>\n",
       "      <th>1</th>\n",
       "      <td>28801</td>\n",
       "      <td>227.208661</td>\n",
       "    </tr>\n",
       "    <tr>\n",
       "      <th>2</th>\n",
       "      <td>28802</td>\n",
       "      <td>75.736220</td>\n",
       "    </tr>\n",
       "  </tbody>\n",
       "</table>\n",
       "</div>"
      ],
      "text/plain": [
       "      ID  prediction\n",
       "0  28800  151.472441\n",
       "1  28801  227.208661\n",
       "2  28802   75.736220"
      ]
     },
     "execution_count": 13,
     "metadata": {},
     "output_type": "execute_result"
    }
   ],
   "source": [
    "sub = pd.read_csv(\"/kaggle/input/equity-post-HCT-survival-predictions/sample_submission.csv\")\n",
    "\n",
    "sub[\"prediction\"] = sum(np.log1p(rankdata(all_preds[i])*all_scores[i]) for i in range(len(all_preds)))\n",
    "\n",
    "sub.to_csv(\"submission.csv\",index=False)\n",
    "print(\"Sub shape:\",sub.shape)\n",
    "sub.head()\n",
    "sub = pd.read_csv(\"/kaggle/input/equity-post-HCT-survival-predictions/sample_submission.csv\")\n",
    "\n",
    "sub[\"prediction\"] = sum((rankdata(all_preds[i])*all_scores[i]) for i in range(len(all_preds)))\n",
    "\n",
    "sub.to_csv(\"submission1.csv\",index=False)\n",
    "print(\"Sub shape:\",sub.shape)\n",
    "sub.head()"
   ]
  },
  {
   "cell_type": "code",
   "execution_count": null,
   "id": "91f93e73",
   "metadata": {
    "papermill": {
     "duration": 0.0129,
     "end_time": "2025-02-24T03:45:41.736855",
     "exception": false,
     "start_time": "2025-02-24T03:45:41.723955",
     "status": "completed"
    },
    "tags": []
   },
   "outputs": [],
   "source": []
  }
 ],
 "metadata": {
  "kaggle": {
   "accelerator": "none",
   "dataSources": [
    {
     "databundleVersionId": 10381525,
     "sourceId": 70942,
     "sourceType": "competition"
    },
    {
     "datasetId": 6723484,
     "sourceId": 10827997,
     "sourceType": "datasetVersion"
    },
    {
     "sourceId": 211253469,
     "sourceType": "kernelVersion"
    },
    {
     "sourceId": 211322530,
     "sourceType": "kernelVersion"
    }
   ],
   "dockerImageVersionId": 30805,
   "isGpuEnabled": false,
   "isInternetEnabled": false,
   "language": "python",
   "sourceType": "notebook"
  },
  "kernelspec": {
   "display_name": "Python 3",
   "language": "python",
   "name": "python3"
  },
  "language_info": {
   "codemirror_mode": {
    "name": "ipython",
    "version": 3
   },
   "file_extension": ".py",
   "mimetype": "text/x-python",
   "name": "python",
   "nbconvert_exporter": "python",
   "pygments_lexer": "ipython3",
   "version": "3.10.14"
  },
  "papermill": {
   "default_parameters": {},
   "duration": 35202.923605,
   "end_time": "2025-02-24T03:45:43.280877",
   "environment_variables": {},
   "exception": null,
   "input_path": "__notebook__.ipynb",
   "output_path": "__notebook__.ipynb",
   "parameters": {},
   "start_time": "2025-02-23T17:59:00.357272",
   "version": "2.6.0"
  }
 },
 "nbformat": 4,
 "nbformat_minor": 5
}
